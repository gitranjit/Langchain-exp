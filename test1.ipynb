{
 "cells": [
  {
   "cell_type": "code",
   "execution_count": null,
   "id": "312f1309",
   "metadata": {},
   "outputs": [],
   "source": [
    "!pip install langchain openai"
   ]
  },
  {
   "cell_type": "code",
   "execution_count": null,
   "id": "fd88d866",
   "metadata": {},
   "outputs": [],
   "source": [
    "from dotenv import load_dotenv\n",
    "load_dotenv()\n"
   ]
  },
  {
   "cell_type": "code",
   "execution_count": null,
   "id": "f6bbabf6",
   "metadata": {},
   "outputs": [
    {
     "name": "stdout",
     "output_type": "stream",
     "text": [
      "\n",
      "\n",
      "\u001b[1m> Entering new SimpleSequentialChain chain...\u001b[0m\n",
      "\u001b[36;1m\u001b[1;3mThis problem is asking for the total number of apples Sarah has after going through a series of actions. Sarah starts with 5 apples, then buys 3 more apples, bringing her total to 8 apples. After giving away 2 apples, she will have 6 apples remaining.\u001b[0m\n",
      "\u001b[33;1m\u001b[1;3m1. Sarah starts with 5 apples.\n",
      "2. Sarah buys 3 more apples, bringing her total to 5 + 3 = 8 apples.\n",
      "3. Sarah gives away 2 apples, leaving her with 8 - 2 = 6 apples remaining.\n",
      "\n",
      "Therefore, Sarah has 6 apples remaining.\u001b[0m\n",
      "\u001b[38;5;200m\u001b[1;3mThe final answer to the problem is that Sarah has 6 apples remaining.\u001b[0m\n",
      "\n",
      "\u001b[1m> Finished chain.\u001b[0m\n",
      "\n",
      "✅ Final Output:\n",
      " The final answer to the problem is that Sarah has 6 apples remaining.\n"
     ]
    }
   ],
   "source": [
    "from langchain.chat_models import ChatOpenAI\n",
    "from langchain.prompts import PromptTemplate\n",
    "from langchain.chains import LLMChain, SimpleSequentialChain\n",
    "\n",
    "# 1. Load LLM\n",
    "llm = ChatOpenAI(\n",
    "    model_name=\"gpt-3.5-turbo\",\n",
    "    temperature=0,\n",
    ")\n",
    "\n",
    "# 2. Step 1: Understanding the problem\n",
    "prompt_1 = PromptTemplate(\n",
    "    input_variables=[\"problem\"],\n",
    "    template=\"Read the following problem carefully and explain what it's asking:\\n\\n{problem}\"\n",
    ")\n",
    "chain_1 = LLMChain(llm=llm, prompt=prompt_1)\n",
    "\n",
    "# 3. Step 2: Do the math\n",
    "prompt_2 = PromptTemplate(\n",
    "    input_variables=[\"explanation\"],\n",
    "    template=\"Based on this explanation, solve the problem step by step:\\n\\n{explanation}\"\n",
    ")\n",
    "chain_2 = LLMChain(llm=llm, prompt=prompt_2)\n",
    "\n",
    "# 4. Step 3: Final Answer\n",
    "prompt_3 = PromptTemplate(\n",
    "    input_variables=[\"solution\"],\n",
    "    template=\"What is the final answer to the problem?\\n\\n{solution}\"\n",
    ")\n",
    "chain_3 = LLMChain(llm=llm, prompt=prompt_3)\n",
    "\n",
    "# 5. Combine into Sequential Chain\n",
    "full_chain = SimpleSequentialChain(chains=[chain_1, chain_2, chain_3], verbose=True)\n",
    "\n",
    "# Run the chain with your problem\n",
    "problem = \"Sarah has 5 apples. She buys 3 more apples, then gives away 2. How many apples does she have now?\"\n",
    "final_output = full_chain.run(problem)\n",
    "\n",
    "print(\"\\n✅ Final Output:\\n\", final_output)\n"
   ]
  },
  {
   "cell_type": "code",
   "execution_count": null,
   "id": "76b6c52e",
   "metadata": {},
   "outputs": [],
   "source": []
  }
 ],
 "metadata": {
  "kernelspec": {
   "display_name": "lanchain1",
   "language": "python",
   "name": "python3"
  },
  "language_info": {
   "codemirror_mode": {
    "name": "ipython",
    "version": 3
   },
   "file_extension": ".py",
   "mimetype": "text/x-python",
   "name": "python",
   "nbconvert_exporter": "python",
   "pygments_lexer": "ipython3",
   "version": "3.13.5"
  }
 },
 "nbformat": 4,
 "nbformat_minor": 5
}
