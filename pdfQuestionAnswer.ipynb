{
 "cells": [
  {
   "cell_type": "code",
   "execution_count": null,
   "id": "2698c770",
   "metadata": {},
   "outputs": [],
   "source": [
    "!pip install langchain openai chromadb unstructured pdfminer.six tiktoken"
   ]
  },
  {
   "cell_type": "code",
   "execution_count": 45,
   "id": "87a6d243",
   "metadata": {},
   "outputs": [
    {
     "name": "stdout",
     "output_type": "stream",
     "text": [
      "Collecting streamlit\n",
      "  Downloading streamlit-1.46.1-py3-none-any.whl.metadata (9.0 kB)\n",
      "Collecting altair<6,>=4.0 (from streamlit)\n",
      "  Downloading altair-5.5.0-py3-none-any.whl.metadata (11 kB)\n",
      "Collecting blinker<2,>=1.5.0 (from streamlit)\n",
      "  Downloading blinker-1.9.0-py3-none-any.whl.metadata (1.6 kB)\n",
      "Requirement already satisfied: cachetools<7,>=4.0 in c:\\users\\ranji\\miniconda3\\envs\\lanchain1\\lib\\site-packages (from streamlit) (5.5.2)\n",
      "Requirement already satisfied: click<9,>=7.0 in c:\\users\\ranji\\miniconda3\\envs\\lanchain1\\lib\\site-packages (from streamlit) (8.2.1)\n",
      "Requirement already satisfied: numpy<3,>=1.23 in c:\\users\\ranji\\miniconda3\\envs\\lanchain1\\lib\\site-packages (from streamlit) (2.3.1)\n",
      "Requirement already satisfied: packaging<26,>=20 in c:\\users\\ranji\\miniconda3\\envs\\lanchain1\\lib\\site-packages (from streamlit) (24.2)\n",
      "Requirement already satisfied: pandas<3,>=1.4.0 in c:\\users\\ranji\\miniconda3\\envs\\lanchain1\\lib\\site-packages (from streamlit) (2.3.0)\n",
      "Requirement already satisfied: pillow<12,>=7.1.0 in c:\\users\\ranji\\miniconda3\\envs\\lanchain1\\lib\\site-packages (from streamlit) (11.3.0)\n",
      "Requirement already satisfied: protobuf<7,>=3.20 in c:\\users\\ranji\\miniconda3\\envs\\lanchain1\\lib\\site-packages (from streamlit) (6.31.1)\n",
      "Collecting pyarrow>=7.0 (from streamlit)\n",
      "  Downloading pyarrow-20.0.0-cp313-cp313-win_amd64.whl.metadata (3.4 kB)\n",
      "Requirement already satisfied: requests<3,>=2.27 in c:\\users\\ranji\\miniconda3\\envs\\lanchain1\\lib\\site-packages (from streamlit) (2.32.4)\n",
      "Requirement already satisfied: tenacity<10,>=8.1.0 in c:\\users\\ranji\\miniconda3\\envs\\lanchain1\\lib\\site-packages (from streamlit) (9.1.2)\n",
      "Collecting toml<2,>=0.10.1 (from streamlit)\n",
      "  Downloading toml-0.10.2-py2.py3-none-any.whl.metadata (7.1 kB)\n",
      "Requirement already satisfied: typing-extensions<5,>=4.4.0 in c:\\users\\ranji\\miniconda3\\envs\\lanchain1\\lib\\site-packages (from streamlit) (4.14.0)\n",
      "Collecting watchdog<7,>=2.1.5 (from streamlit)\n",
      "  Downloading watchdog-6.0.0-py3-none-win_amd64.whl.metadata (44 kB)\n",
      "Collecting gitpython!=3.1.19,<4,>=3.0.7 (from streamlit)\n",
      "  Using cached GitPython-3.1.44-py3-none-any.whl.metadata (13 kB)\n",
      "Collecting pydeck<1,>=0.8.0b4 (from streamlit)\n",
      "  Downloading pydeck-0.9.1-py2.py3-none-any.whl.metadata (4.1 kB)\n",
      "Requirement already satisfied: tornado!=6.5.0,<7,>=6.0.3 in c:\\users\\ranji\\miniconda3\\envs\\lanchain1\\lib\\site-packages (from streamlit) (6.5.1)\n",
      "Requirement already satisfied: jinja2 in c:\\users\\ranji\\miniconda3\\envs\\lanchain1\\lib\\site-packages (from altair<6,>=4.0->streamlit) (3.1.6)\n",
      "Requirement already satisfied: jsonschema>=3.0 in c:\\users\\ranji\\miniconda3\\envs\\lanchain1\\lib\\site-packages (from altair<6,>=4.0->streamlit) (4.24.0)\n",
      "Collecting narwhals>=1.14.2 (from altair<6,>=4.0->streamlit)\n",
      "  Downloading narwhals-1.45.0-py3-none-any.whl.metadata (11 kB)\n",
      "Requirement already satisfied: colorama in c:\\users\\ranji\\miniconda3\\envs\\lanchain1\\lib\\site-packages (from click<9,>=7.0->streamlit) (0.4.6)\n",
      "Collecting gitdb<5,>=4.0.1 (from gitpython!=3.1.19,<4,>=3.0.7->streamlit)\n",
      "  Using cached gitdb-4.0.12-py3-none-any.whl.metadata (1.2 kB)\n",
      "Collecting smmap<6,>=3.0.1 (from gitdb<5,>=4.0.1->gitpython!=3.1.19,<4,>=3.0.7->streamlit)\n",
      "  Using cached smmap-5.0.2-py3-none-any.whl.metadata (4.3 kB)\n",
      "Requirement already satisfied: python-dateutil>=2.8.2 in c:\\users\\ranji\\miniconda3\\envs\\lanchain1\\lib\\site-packages (from pandas<3,>=1.4.0->streamlit) (2.9.0.post0)\n",
      "Requirement already satisfied: pytz>=2020.1 in c:\\users\\ranji\\miniconda3\\envs\\lanchain1\\lib\\site-packages (from pandas<3,>=1.4.0->streamlit) (2025.2)\n",
      "Requirement already satisfied: tzdata>=2022.7 in c:\\users\\ranji\\miniconda3\\envs\\lanchain1\\lib\\site-packages (from pandas<3,>=1.4.0->streamlit) (2025.2)\n",
      "Requirement already satisfied: charset_normalizer<4,>=2 in c:\\users\\ranji\\miniconda3\\envs\\lanchain1\\lib\\site-packages (from requests<3,>=2.27->streamlit) (3.4.2)\n",
      "Requirement already satisfied: idna<4,>=2.5 in c:\\users\\ranji\\miniconda3\\envs\\lanchain1\\lib\\site-packages (from requests<3,>=2.27->streamlit) (3.10)\n",
      "Requirement already satisfied: urllib3<3,>=1.21.1 in c:\\users\\ranji\\miniconda3\\envs\\lanchain1\\lib\\site-packages (from requests<3,>=2.27->streamlit) (2.5.0)\n",
      "Requirement already satisfied: certifi>=2017.4.17 in c:\\users\\ranji\\miniconda3\\envs\\lanchain1\\lib\\site-packages (from requests<3,>=2.27->streamlit) (2025.6.15)\n",
      "Requirement already satisfied: MarkupSafe>=2.0 in c:\\users\\ranji\\miniconda3\\envs\\lanchain1\\lib\\site-packages (from jinja2->altair<6,>=4.0->streamlit) (3.0.2)\n",
      "Requirement already satisfied: attrs>=22.2.0 in c:\\users\\ranji\\miniconda3\\envs\\lanchain1\\lib\\site-packages (from jsonschema>=3.0->altair<6,>=4.0->streamlit) (25.3.0)\n",
      "Requirement already satisfied: jsonschema-specifications>=2023.03.6 in c:\\users\\ranji\\miniconda3\\envs\\lanchain1\\lib\\site-packages (from jsonschema>=3.0->altair<6,>=4.0->streamlit) (2025.4.1)\n",
      "Requirement already satisfied: referencing>=0.28.4 in c:\\users\\ranji\\miniconda3\\envs\\lanchain1\\lib\\site-packages (from jsonschema>=3.0->altair<6,>=4.0->streamlit) (0.36.2)\n",
      "Requirement already satisfied: rpds-py>=0.7.1 in c:\\users\\ranji\\miniconda3\\envs\\lanchain1\\lib\\site-packages (from jsonschema>=3.0->altair<6,>=4.0->streamlit) (0.26.0)\n",
      "Requirement already satisfied: six>=1.5 in c:\\users\\ranji\\miniconda3\\envs\\lanchain1\\lib\\site-packages (from python-dateutil>=2.8.2->pandas<3,>=1.4.0->streamlit) (1.17.0)\n",
      "Downloading streamlit-1.46.1-py3-none-any.whl (10.1 MB)\n",
      "   ---------------------------------------- 0.0/10.1 MB ? eta -:--:--\n",
      "   ------------ --------------------------- 3.1/10.1 MB 15.6 MB/s eta 0:00:01\n",
      "   ------------------------- -------------- 6.3/10.1 MB 15.2 MB/s eta 0:00:01\n",
      "   ------------------------------------ --- 9.2/10.1 MB 15.0 MB/s eta 0:00:01\n",
      "   ---------------------------------------- 10.1/10.1 MB 14.3 MB/s eta 0:00:00\n",
      "Downloading altair-5.5.0-py3-none-any.whl (731 kB)\n",
      "   ---------------------------------------- 0.0/731.2 kB ? eta -:--:--\n",
      "   --------------------------------------- 731.2/731.2 kB 10.9 MB/s eta 0:00:00\n",
      "Downloading blinker-1.9.0-py3-none-any.whl (8.5 kB)\n",
      "Using cached GitPython-3.1.44-py3-none-any.whl (207 kB)\n",
      "Using cached gitdb-4.0.12-py3-none-any.whl (62 kB)\n",
      "Downloading pydeck-0.9.1-py2.py3-none-any.whl (6.9 MB)\n",
      "   ---------------------------------------- 0.0/6.9 MB ? eta -:--:--\n",
      "   ------------------ --------------------- 3.1/6.9 MB 14.9 MB/s eta 0:00:01\n",
      "   ------------------------------------ --- 6.3/6.9 MB 14.9 MB/s eta 0:00:01\n",
      "   ---------------------------------------- 6.9/6.9 MB 14.1 MB/s eta 0:00:00\n",
      "Using cached smmap-5.0.2-py3-none-any.whl (24 kB)\n",
      "Downloading toml-0.10.2-py2.py3-none-any.whl (16 kB)\n",
      "Downloading watchdog-6.0.0-py3-none-win_amd64.whl (79 kB)\n",
      "Downloading narwhals-1.45.0-py3-none-any.whl (371 kB)\n",
      "Downloading pyarrow-20.0.0-cp313-cp313-win_amd64.whl (25.7 MB)\n",
      "   ---------------------------------------- 0.0/25.7 MB ? eta -:--:--\n",
      "   ---- ----------------------------------- 3.1/25.7 MB 14.9 MB/s eta 0:00:02\n",
      "   ---------- ----------------------------- 6.6/25.7 MB 14.9 MB/s eta 0:00:02\n",
      "   --------------- ------------------------ 9.7/25.7 MB 14.8 MB/s eta 0:00:02\n",
      "   ------------------- -------------------- 12.6/25.7 MB 14.9 MB/s eta 0:00:01\n",
      "   ------------------------ --------------- 15.7/25.7 MB 14.8 MB/s eta 0:00:01\n",
      "   ----------------------------- ---------- 18.6/25.7 MB 14.8 MB/s eta 0:00:01\n",
      "   ---------------------------------- ----- 22.0/25.7 MB 14.8 MB/s eta 0:00:01\n",
      "   ---------------------------------------  25.2/25.7 MB 14.8 MB/s eta 0:00:01\n",
      "   ---------------------------------------- 25.7/25.7 MB 14.2 MB/s eta 0:00:00\n",
      "Installing collected packages: watchdog, toml, smmap, pyarrow, narwhals, blinker, pydeck, gitdb, gitpython, altair, streamlit\n",
      "\n",
      "   --- ------------------------------------  1/11 [toml]\n",
      "   ---------- -----------------------------  3/11 [pyarrow]\n",
      "   ---------- -----------------------------  3/11 [pyarrow]\n",
      "   ---------- -----------------------------  3/11 [pyarrow]\n",
      "   ---------- -----------------------------  3/11 [pyarrow]\n",
      "   ---------- -----------------------------  3/11 [pyarrow]\n",
      "   ---------- -----------------------------  3/11 [pyarrow]\n",
      "   ---------- -----------------------------  3/11 [pyarrow]\n",
      "   ---------- -----------------------------  3/11 [pyarrow]\n",
      "   ---------- -----------------------------  3/11 [pyarrow]\n",
      "   ---------- -----------------------------  3/11 [pyarrow]\n",
      "   ---------- -----------------------------  3/11 [pyarrow]\n",
      "   -------------- -------------------------  4/11 [narwhals]\n",
      "   -------------- -------------------------  4/11 [narwhals]\n",
      "   -------------- -------------------------  4/11 [narwhals]\n",
      "   -------------- -------------------------  4/11 [narwhals]\n",
      "   -------------- -------------------------  4/11 [narwhals]\n",
      "   --------------------- ------------------  6/11 [pydeck]\n",
      "   --------------------- ------------------  6/11 [pydeck]\n",
      "   ------------------------- --------------  7/11 [gitdb]\n",
      "   ----------------------------- ----------  8/11 [gitpython]\n",
      "   -------------------------------- -------  9/11 [altair]\n",
      "   -------------------------------- -------  9/11 [altair]\n",
      "   -------------------------------- -------  9/11 [altair]\n",
      "   ------------------------------------ --- 10/11 [streamlit]\n",
      "   ------------------------------------ --- 10/11 [streamlit]\n",
      "   ------------------------------------ --- 10/11 [streamlit]\n",
      "   ------------------------------------ --- 10/11 [streamlit]\n",
      "   ------------------------------------ --- 10/11 [streamlit]\n",
      "   ------------------------------------ --- 10/11 [streamlit]\n",
      "   ------------------------------------ --- 10/11 [streamlit]\n",
      "   ------------------------------------ --- 10/11 [streamlit]\n",
      "   ------------------------------------ --- 10/11 [streamlit]\n",
      "   ------------------------------------ --- 10/11 [streamlit]\n",
      "   ------------------------------------ --- 10/11 [streamlit]\n",
      "   ------------------------------------ --- 10/11 [streamlit]\n",
      "   ------------------------------------ --- 10/11 [streamlit]\n",
      "   ---------------------------------------- 11/11 [streamlit]\n",
      "\n",
      "Successfully installed altair-5.5.0 blinker-1.9.0 gitdb-4.0.12 gitpython-3.1.44 narwhals-1.45.0 pyarrow-20.0.0 pydeck-0.9.1 smmap-5.0.2 streamlit-1.46.1 toml-0.10.2 watchdog-6.0.0\n"
     ]
    }
   ],
   "source": [
    "# !pip install unstructured[local-inference]\n",
    "!pip install streamlit "
   ]
  },
  {
   "cell_type": "code",
   "execution_count": 31,
   "id": "4788f387",
   "metadata": {},
   "outputs": [
    {
     "data": {
      "text/plain": [
       "True"
      ]
     },
     "execution_count": 31,
     "metadata": {},
     "output_type": "execute_result"
    }
   ],
   "source": [
    "from dotenv import load_dotenv\n",
    "load_dotenv()\n"
   ]
  },
  {
   "cell_type": "code",
   "execution_count": 19,
   "id": "11c36c61",
   "metadata": {},
   "outputs": [
    {
     "name": "stderr",
     "output_type": "stream",
     "text": [
      "c:\\Users\\ranji\\Miniconda3\\envs\\lanchain1\\Lib\\site-packages\\tqdm\\auto.py:21: TqdmWarning: IProgress not found. Please update jupyter and ipywidgets. See https://ipywidgets.readthedocs.io/en/stable/user_install.html\n",
      "  from .autonotebook import tqdm as notebook_tqdm\n",
      "Cannot set gray stroke color because /'P0' is an invalid float value\n",
      "Cannot set gray stroke color because /'P1' is an invalid float value\n",
      "Cannot set gray stroke color because /'P2' is an invalid float value\n",
      "Cannot set gray stroke color because /'P3' is an invalid float value\n",
      "Cannot set gray stroke color because /'P4' is an invalid float value\n",
      "Cannot set gray stroke color because /'P5' is an invalid float value\n",
      "Cannot set gray stroke color because /'P0' is an invalid float value\n",
      "Cannot set gray stroke color because /'P1' is an invalid float value\n",
      "Cannot set gray non-stroke color because /'P2' is an invalid float value\n",
      "Cannot set gray non-stroke color because /'P0' is an invalid float value\n"
     ]
    }
   ],
   "source": [
    "from langchain.document_loaders import UnstructuredPDFLoader\n",
    "from langchain.text_splitter import RecursiveCharacterTextSplitter\n",
    "# import pi_heif\n",
    "\n",
    "loader = UnstructuredPDFLoader(\"reliance.pdf\")\n",
    "docs = loader.load()\n",
    "\n",
    "# Split long text into chunks\n",
    "text_splitter = RecursiveCharacterTextSplitter(chunk_size=1000, chunk_overlap=100)\n",
    "documents = text_splitter.split_documents(docs)\n"
   ]
  },
  {
   "cell_type": "code",
   "execution_count": 29,
   "id": "22de0402",
   "metadata": {},
   "outputs": [
    {
     "data": {
      "text/plain": [
       "Document(metadata={'source': 'reliance.pdf'}, page_content='7.3%\\n\\nEARNINGS PER SHARE (C) ₹102.9\\n\\n5.0%\\n\\nIndia’s foremost retailer with industry-leading reach, revenue, and profitability operating an integrated network of stores and digital commerce platforms.\\n\\nConsumption Baskets\\n\\nConsumer Electronics, Grocery, Fashion and Lifestyle and Connectivity\\n\\nREVENUE ₹3,06,848 Crore US$ 36.8 Billion EBITDA ₹23,082 Crore US$ 2.8 Billion\\n\\nFY 2023-24\\n\\nFY 2022-23\\n\\nFY 2021-22\\n\\n10,00,122 9,74,864 7,88,743\\n\\nStrong revenue growth, supported by continued growth momentum in consumer businesses and upstream business.\\n\\nFY 2023-24\\n\\nFY 2022-23\\n\\nFY 2021-22\\n\\nRecord net profit, led by strong operational performance across all businesses.\\n\\n79,020 73,670 66,184\\n\\nFY 2023-24\\n\\nFY 2022-23\\n\\nFY 2021-22\\n\\nStrong operating performance, with all businesses contributing to earnings growth.\\n\\n102.9 98.0 89.5\\n\\nDigital Services')"
      ]
     },
     "execution_count": 29,
     "metadata": {},
     "output_type": "execute_result"
    }
   ],
   "source": [
    "documents[4]"
   ]
  },
  {
   "cell_type": "code",
   "execution_count": 27,
   "id": "970d5bd0",
   "metadata": {},
   "outputs": [
    {
     "data": {
      "text/plain": [
       "'RETAIL\\n\\nENTERTAINMENT\\n\\nDIGITAL SERVICES\\n\\nReliance for\\n\\nENERGY\\n\\nMATERIALS\\n\\nIntegrated Annual Report 2023-24\\n\\nEMPOWERMENT\\n\\nSPORTS\\n\\nEDUCATION\\n\\nReliance Industries Limited (RIL) is a Fortune Global 500 company and the largest private sector company in India. The growth of Reliance mirrors the relentless spirit of dynamism and hope that defines India. It is this spirit that Reliance is committed to foster, and it is articulated in our timeless expression of intent, ‘Growth is Life’.\\n\\nAbout this Report\\n\\nThe Reliance Integrated Annual Report has been prepared in alignment with the Integrated Reporting <IR> Framework. In preparation for the Report, GRI Standards, National Guidelines for Responsible Business Conduct (NGRBC), United Nations Sustainable Development Goals (UN SDGs) and 13 other frameworks were referenced. The Report outlines RIL’s commitment to stakeholder value creation and defines the actions taken and outcomes achieved for it’s stakeholders.'"
      ]
     },
     "execution_count": 27,
     "metadata": {},
     "output_type": "execute_result"
    }
   ],
   "source": [
    "documents[0].page_content\n"
   ]
  },
  {
   "cell_type": "code",
   "execution_count": null,
   "id": "0b3fe3f4",
   "metadata": {},
   "outputs": [],
   "source": [
    "len(documents[0].page_content)\n"
   ]
  },
  {
   "cell_type": "code",
   "execution_count": 32,
   "id": "129cc70d",
   "metadata": {},
   "outputs": [],
   "source": [
    "from langchain.embeddings import OpenAIEmbeddings\n",
    "from langchain.vectorstores import Chroma\n",
    "\n",
    "embedding = OpenAIEmbeddings()\n",
    "\n",
    "# Create a vectorstore\n",
    "vectorstore = Chroma.from_documents(documents, embedding)\n"
   ]
  },
  {
   "cell_type": "code",
   "execution_count": 38,
   "id": "cf2743f7",
   "metadata": {},
   "outputs": [
    {
     "name": "stderr",
     "output_type": "stream",
     "text": [
      "C:\\Users\\ranji\\AppData\\Local\\Temp\\ipykernel_13964\\1724501420.py:4: LangChainDeprecationWarning: The class `ChatOpenAI` was deprecated in LangChain 0.0.10 and will be removed in 1.0. An updated version of the class exists in the :class:`~langchain-openai package and should be used instead. To use it run `pip install -U :class:`~langchain-openai` and import as `from :class:`~langchain_openai import ChatOpenAI``.\n",
      "  llm = ChatOpenAI(temperature=0, model_name=\"gpt-3.5-turbo\")\n"
     ]
    }
   ],
   "source": [
    "from langchain.chat_models import ChatOpenAI\n",
    "from langchain.chains import RetrievalQA\n",
    "\n",
    "llm = ChatOpenAI(temperature=0, model_name=\"gpt-3.5-turbo\")\n",
    "qa_chain = RetrievalQA.from_chain_type(\n",
    "    llm=llm,\n",
    "    retriever=vectorstore.as_retriever()\n",
    ")\n"
   ]
  },
  {
   "cell_type": "code",
   "execution_count": null,
   "id": "19bd91c5",
   "metadata": {},
   "outputs": [
    {
     "name": "stdout",
     "output_type": "stream",
     "text": [
      "{'query': 'What are the main findings discussed in the PDF?', 'result': \"The main findings discussed in the PDF include India's robust economic performance driven by strong domestic consumption and increased investment despite global headwinds, significant volatility in global financial markets in FY 2023-24, and forward-looking statements related to the company's growth strategy, product development, market position, and financial performance. Additionally, the PDF covers business overviews, industry overviews, business performance reviews, SCOT analysis, outlooks, risk and governance, liquidity and capital resources, major awards and recognition, and an integrated approach to sustainable growth across various industries such as retail, oil to chemicals, digital services, oil and gas E&P, media and entertainment, and new energy.\"}\n"
     ]
    }
   ],
   "source": [
    "query = \"What are the main findings discussed in the PDF?\"\n",
    "response = qa_chain.invoke(query)\n",
    "\n",
    "print(response)"
   ]
  },
  {
   "cell_type": "code",
   "execution_count": 43,
   "id": "bc5288e1",
   "metadata": {},
   "outputs": [
    {
     "data": {
      "text/plain": [
       "\"The main findings discussed in the PDF include India's robust economic performance driven by strong domestic consumption and increased investment despite global headwinds, significant volatility in global financial markets in FY 2023-24, and forward-looking statements related to the company's growth strategy, product development, market position, and financial performance. Additionally, the PDF covers business overviews, industry overviews, business performance reviews, SCOT analysis, outlooks, risk and governance, liquidity and capital resources, major awards and recognition, and an integrated approach to sustainable growth across various industries such as retail, oil to chemicals, digital services, oil and gas E&P, media and entertainment, and new energy.\""
      ]
     },
     "execution_count": 43,
     "metadata": {},
     "output_type": "execute_result"
    }
   ],
   "source": [
    "response['result']"
   ]
  },
  {
   "cell_type": "code",
   "execution_count": null,
   "id": "c8b01260",
   "metadata": {},
   "outputs": [
    {
     "data": {
      "text/plain": [
       "\"The SCOT analysis mentioned in the PDF stands for Strengths, Challenges, Opportunities, and Threats analysis. It is a strategic planning tool used to identify and understand the internal and external factors that can impact an organization or industry. \\n\\nStrengths: These are internal factors that give the organization or industry a competitive advantage. They could include things like strong brand reputation, efficient operations, or unique technology.\\n\\nChallenges: These are internal factors that may hinder the organization or industry's performance. They could include issues like high production costs, outdated technology, or lack of skilled workforce.\\n\\nOpportunities: These are external factors that the organization or industry could potentially leverage to its advantage. They could include market growth, technological advancements, or changing consumer preferences.\\n\\nThreats: These are external factors that could negatively impact the organization or industry. They could include things like increased competition, regulatory changes, or economic downturns.\\n\\nBy conducting a SCOT analysis, organizations can better understand their current position, anticipate future challenges, and capitalize on opportunities for growth and success.\""
      ]
     },
     "execution_count": 44,
     "metadata": {},
     "output_type": "execute_result"
    }
   ],
   "source": [
    "query = \"explain SCOT analysis discussed in the PDF\"\n",
    "response = qa_chain.invoke(query)\n",
    "\n",
    "response['result']"
   ]
  },
  {
   "cell_type": "code",
   "execution_count": null,
   "id": "1753100c",
   "metadata": {},
   "outputs": [],
   "source": []
  },
  {
   "cell_type": "code",
   "execution_count": null,
   "id": "b276d684",
   "metadata": {},
   "outputs": [],
   "source": []
  }
 ],
 "metadata": {
  "kernelspec": {
   "display_name": "lanchain1",
   "language": "python",
   "name": "python3"
  },
  "language_info": {
   "codemirror_mode": {
    "name": "ipython",
    "version": 3
   },
   "file_extension": ".py",
   "mimetype": "text/x-python",
   "name": "python",
   "nbconvert_exporter": "python",
   "pygments_lexer": "ipython3",
   "version": "3.13.5"
  }
 },
 "nbformat": 4,
 "nbformat_minor": 5
}
